{
 "cells": [
  {
   "cell_type": "markdown",
   "id": "48eb42e3-8b32-449c-94ae-aac6b57bc39d",
   "metadata": {},
   "source": [
    "# Headline Sentiment Analysis \n",
    "---"
   ]
  },
  {
   "cell_type": "markdown",
   "id": "529de1bd-0b45-4143-ab0a-61fa35bb9f3b",
   "metadata": {},
   "source": [
    "### Import Libraries "
   ]
  },
  {
   "cell_type": "code",
   "execution_count": null,
   "id": "8728ed56-e14e-4a08-a84f-a7c6cad690bd",
   "metadata": {},
   "outputs": [],
   "source": [
    "import requests\n",
    "from bs4 import BeautifulSoup"
   ]
  },
  {
   "cell_type": "markdown",
   "id": "2a3d808a-1edf-4206-a018-c6cd8ba1e62d",
   "metadata": {},
   "source": [
    "### Define Ticker"
   ]
  },
  {
   "cell_type": "code",
   "execution_count": null,
   "id": "43c20790-019e-49d9-a234-878e6f58ba9b",
   "metadata": {},
   "outputs": [],
   "source": [
    "ticker = 'tsla'"
   ]
  },
  {
   "cell_type": "code",
   "execution_count": null,
   "id": "363e7197-f240-466d-ab8d-8ec28be1e331",
   "metadata": {},
   "outputs": [],
   "source": [
    "def get_headlines(page):\n",
    "    html = requests.get(page).text\n",
    "    soup = BeautifulSoup(html)\n",
    "    headlines = soup.find_all(\"a\", {\"target\" : \"_self\"})\n",
    "    headlines.pop(0)\n",
    "    dates = soup.findAll('small')\n",
    "    dates.pop(0)\n",
    "    return [i.text.strip() for i in headlines], [i.text.strip().split()[0] for i in dates]"
   ]
  },
  {
   "cell_type": "code",
   "execution_count": null,
   "id": "72899a62-3faf-4022-a128-250b05fcc082",
   "metadata": {},
   "outputs": [],
   "source": [
    "headlnes_list, date_list = [], []\n",
    "# YOU DUMB HOE THIS DON'T WORK \n",
    "# STOOOOOOOPID BITCH \n",
    "# NOT RUNNING -FIX IT UP TIS MESSSYYYYYYYYY\n",
    "for i in range(1,120):\n",
    "    headlines, dates = get_headlines(\"https://www.nasdaq.com/symbol/\"+ticker+\"/news-headlines?page={}\".format(i))\n",
    "    headlines_list.append(headlines)\n",
    "    dates_list.append(dates)\n",
    "    time.sleep(1)\n",
    "    "
   ]
  },
  {
   "cell_type": "code",
   "execution_count": null,
   "id": "91cf8b76-a7be-4170-84dc-90e6ca1b2769",
   "metadata": {},
   "outputs": [],
   "source": [
    "ticker_headlines = pd.DataFrame({'Title': [i for sub in headlines_list for i in sub], \n",
    "                                 'Date': [i for sub in dates_list for i in sub[:10]]})"
   ]
  },
  {
   "cell_type": "code",
   "execution_count": null,
   "id": "5c2ad5bc-76cf-4ab6-9c2a-0da8c37e805c",
   "metadata": {},
   "outputs": [],
   "source": []
  },
  {
   "cell_type": "code",
   "execution_count": null,
   "id": "aa99896c-45f5-470d-9823-07ce0a666df2",
   "metadata": {},
   "outputs": [],
   "source": []
  }
 ],
 "metadata": {
  "kernelspec": {
   "display_name": "Python 3",
   "language": "python",
   "name": "python3"
  },
  "language_info": {
   "codemirror_mode": {
    "name": "ipython",
    "version": 3
   },
   "file_extension": ".py",
   "mimetype": "text/x-python",
   "name": "python",
   "nbconvert_exporter": "python",
   "pygments_lexer": "ipython3",
   "version": "3.8.8"
  }
 },
 "nbformat": 4,
 "nbformat_minor": 5
}
