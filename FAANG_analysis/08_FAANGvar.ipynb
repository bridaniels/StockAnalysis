{
 "cells": [
  {
   "cell_type": "markdown",
   "metadata": {},
   "source": [
    "# **Vector AutoRegression (VAR) for FAANG Securities**\n",
    "---"
   ]
  },
  {
   "cell_type": "markdown",
   "metadata": {},
   "source": [
    "### Import Libraries "
   ]
  },
  {
   "cell_type": "code",
   "execution_count": 44,
   "metadata": {},
   "outputs": [],
   "source": [
    "import os\n",
    "\n",
    "import pandas as pd\n",
    "import numpy as np \n",
    "import matplotlib.pyplot"
   ]
  },
  {
   "cell_type": "markdown",
   "metadata": {},
   "source": [
    "### Retrieve Data"
   ]
  },
  {
   "cell_type": "code",
   "execution_count": 45,
   "metadata": {},
   "outputs": [],
   "source": [
    "ticker = 'FB'\n",
    "#ticker = 'AAPL'\n",
    "#ticker = 'AMZN'\n",
    "#ticker = 'NFLX'\n",
    "#ticker = 'GOOG'"
   ]
  },
  {
   "cell_type": "code",
   "execution_count": 46,
   "metadata": {},
   "outputs": [
    {
     "name": "stdout",
     "output_type": "stream",
     "text": [
      "List of stocks:  AMZN FB NFLX GOOG AAPL "
     ]
    }
   ],
   "source": [
    "files = os.listdir('data/stocks')\n",
    "stocks = {}\n",
    "for file in files:\n",
    "    if file.split('.')[1] == 'csv':\n",
    "        name = file.split('.')[0]\n",
    "        stocks[name] = pd.read_csv('data/stocks/'+file, index_col='Date')\n",
    "        stocks[name].index = pd.to_datetime(stocks[name].index)\n",
    "print('List of stocks: ', end = ' ')\n",
    "for i in stocks.keys():\n",
    "    print(i.upper(), end=' ')"
   ]
  },
  {
   "cell_type": "code",
   "execution_count": 47,
   "metadata": {},
   "outputs": [
    {
     "data": {
      "text/html": [
       "<div>\n",
       "<style scoped>\n",
       "    .dataframe tbody tr th:only-of-type {\n",
       "        vertical-align: middle;\n",
       "    }\n",
       "\n",
       "    .dataframe tbody tr th {\n",
       "        vertical-align: top;\n",
       "    }\n",
       "\n",
       "    .dataframe thead th {\n",
       "        text-align: right;\n",
       "    }\n",
       "</style>\n",
       "<table border=\"1\" class=\"dataframe\">\n",
       "  <thead>\n",
       "    <tr style=\"text-align: right;\">\n",
       "      <th></th>\n",
       "      <th>High</th>\n",
       "      <th>Low</th>\n",
       "      <th>Open</th>\n",
       "      <th>Close</th>\n",
       "      <th>Volume</th>\n",
       "      <th>Adj Close</th>\n",
       "      <th>Return</th>\n",
       "      <th>Change</th>\n",
       "      <th>Volatility</th>\n",
       "      <th>MA7</th>\n",
       "      <th>MA21</th>\n",
       "      <th>Momentum</th>\n",
       "      <th>RSI</th>\n",
       "      <th>MACD</th>\n",
       "      <th>Signal</th>\n",
       "      <th>Upper_Band</th>\n",
       "      <th>Lower_Band</th>\n",
       "    </tr>\n",
       "    <tr>\n",
       "      <th>Date</th>\n",
       "      <th></th>\n",
       "      <th></th>\n",
       "      <th></th>\n",
       "      <th></th>\n",
       "      <th></th>\n",
       "      <th></th>\n",
       "      <th></th>\n",
       "      <th></th>\n",
       "      <th></th>\n",
       "      <th></th>\n",
       "      <th></th>\n",
       "      <th></th>\n",
       "      <th></th>\n",
       "      <th></th>\n",
       "      <th></th>\n",
       "      <th></th>\n",
       "      <th></th>\n",
       "    </tr>\n",
       "  </thead>\n",
       "  <tbody>\n",
       "    <tr>\n",
       "      <th>2012-05-18</th>\n",
       "      <td>45.000000</td>\n",
       "      <td>38.000000</td>\n",
       "      <td>42.049999</td>\n",
       "      <td>38.230000</td>\n",
       "      <td>573576400</td>\n",
       "      <td>38.230000</td>\n",
       "      <td>-0.091</td>\n",
       "      <td>0.000000</td>\n",
       "      <td>NaN</td>\n",
       "      <td>NaN</td>\n",
       "      <td>NaN</td>\n",
       "      <td>NaN</td>\n",
       "      <td>NaN</td>\n",
       "      <td>0.000000</td>\n",
       "      <td>0.000000</td>\n",
       "      <td>NaN</td>\n",
       "      <td>NaN</td>\n",
       "    </tr>\n",
       "    <tr>\n",
       "      <th>2012-05-21</th>\n",
       "      <td>36.660000</td>\n",
       "      <td>33.000000</td>\n",
       "      <td>36.529999</td>\n",
       "      <td>34.029999</td>\n",
       "      <td>168192700</td>\n",
       "      <td>34.029999</td>\n",
       "      <td>-0.068</td>\n",
       "      <td>-4.200001</td>\n",
       "      <td>2.969849</td>\n",
       "      <td>NaN</td>\n",
       "      <td>NaN</td>\n",
       "      <td>NaN</td>\n",
       "      <td>NaN</td>\n",
       "      <td>-0.335043</td>\n",
       "      <td>-0.067009</td>\n",
       "      <td>NaN</td>\n",
       "      <td>NaN</td>\n",
       "    </tr>\n",
       "    <tr>\n",
       "      <th>2012-05-22</th>\n",
       "      <td>33.590000</td>\n",
       "      <td>30.940001</td>\n",
       "      <td>32.610001</td>\n",
       "      <td>31.000000</td>\n",
       "      <td>101786600</td>\n",
       "      <td>31.000000</td>\n",
       "      <td>-0.049</td>\n",
       "      <td>-3.029999</td>\n",
       "      <td>3.621059</td>\n",
       "      <td>NaN</td>\n",
       "      <td>NaN</td>\n",
       "      <td>NaN</td>\n",
       "      <td>NaN</td>\n",
       "      <td>-0.835432</td>\n",
       "      <td>-0.220693</td>\n",
       "      <td>NaN</td>\n",
       "      <td>NaN</td>\n",
       "    </tr>\n",
       "    <tr>\n",
       "      <th>2012-05-23</th>\n",
       "      <td>32.500000</td>\n",
       "      <td>31.360001</td>\n",
       "      <td>31.370001</td>\n",
       "      <td>32.000000</td>\n",
       "      <td>73600000</td>\n",
       "      <td>32.000000</td>\n",
       "      <td>0.020</td>\n",
       "      <td>1.000000</td>\n",
       "      <td>3.151231</td>\n",
       "      <td>NaN</td>\n",
       "      <td>NaN</td>\n",
       "      <td>35.230000</td>\n",
       "      <td>NaN</td>\n",
       "      <td>-1.138182</td>\n",
       "      <td>-0.404191</td>\n",
       "      <td>NaN</td>\n",
       "      <td>NaN</td>\n",
       "    </tr>\n",
       "    <tr>\n",
       "      <th>2012-05-24</th>\n",
       "      <td>33.209999</td>\n",
       "      <td>31.770000</td>\n",
       "      <td>32.950001</td>\n",
       "      <td>33.029999</td>\n",
       "      <td>50237200</td>\n",
       "      <td>33.029999</td>\n",
       "      <td>0.002</td>\n",
       "      <td>1.029999</td>\n",
       "      <td>2.713883</td>\n",
       "      <td>NaN</td>\n",
       "      <td>NaN</td>\n",
       "      <td>31.029999</td>\n",
       "      <td>NaN</td>\n",
       "      <td>-1.280243</td>\n",
       "      <td>-0.579401</td>\n",
       "      <td>NaN</td>\n",
       "      <td>NaN</td>\n",
       "    </tr>\n",
       "  </tbody>\n",
       "</table>\n",
       "</div>"
      ],
      "text/plain": [
       "                 High        Low       Open      Close     Volume  Adj Close  \\\n",
       "Date                                                                           \n",
       "2012-05-18  45.000000  38.000000  42.049999  38.230000  573576400  38.230000   \n",
       "2012-05-21  36.660000  33.000000  36.529999  34.029999  168192700  34.029999   \n",
       "2012-05-22  33.590000  30.940001  32.610001  31.000000  101786600  31.000000   \n",
       "2012-05-23  32.500000  31.360001  31.370001  32.000000   73600000  32.000000   \n",
       "2012-05-24  33.209999  31.770000  32.950001  33.029999   50237200  33.029999   \n",
       "\n",
       "            Return    Change  Volatility  MA7  MA21   Momentum  RSI      MACD  \\\n",
       "Date                                                                            \n",
       "2012-05-18  -0.091  0.000000         NaN  NaN   NaN        NaN  NaN  0.000000   \n",
       "2012-05-21  -0.068 -4.200001    2.969849  NaN   NaN        NaN  NaN -0.335043   \n",
       "2012-05-22  -0.049 -3.029999    3.621059  NaN   NaN        NaN  NaN -0.835432   \n",
       "2012-05-23   0.020  1.000000    3.151231  NaN   NaN  35.230000  NaN -1.138182   \n",
       "2012-05-24   0.002  1.029999    2.713883  NaN   NaN  31.029999  NaN -1.280243   \n",
       "\n",
       "              Signal  Upper_Band  Lower_Band  \n",
       "Date                                          \n",
       "2012-05-18  0.000000         NaN         NaN  \n",
       "2012-05-21 -0.067009         NaN         NaN  \n",
       "2012-05-22 -0.220693         NaN         NaN  \n",
       "2012-05-23 -0.404191         NaN         NaN  \n",
       "2012-05-24 -0.579401         NaN         NaN  "
      ]
     },
     "execution_count": 47,
     "metadata": {},
     "output_type": "execute_result"
    }
   ],
   "source": [
    "stocks[ticker.lower()].head()"
   ]
  },
  {
   "cell_type": "markdown",
   "metadata": {},
   "source": [
    "---\n",
    "## Find Optimal Lag Structure \n",
    "---\n",
    "- Akaike (AIC): `-2log(L(K)) + (2K/(N-p))`\n",
    "- Schwarz (SIC): `-2log(L(K)) + ((2Klog(N-p))/(N-p))`\n",
    "- Hannan-Quinn (HQIC): `-2log(L(K)) + ((2Klog(log(N-p)))/(N-p))`\n",
    "> - `L(K)` = likelihood of *K*-variate VAR model \n",
    "> - `N` = sample size\n",
    "> - `p` = estimated parameters \n",
    "- in python library *statsmodel*"
   ]
  },
  {
   "cell_type": "code",
   "execution_count": 67,
   "metadata": {},
   "outputs": [
    {
     "name": "stdout",
     "output_type": "stream",
     "text": [
      "                Close     Volume\n",
      "Date                            \n",
      "2012-05-18  38.230000  573576400\n",
      "2012-05-21  34.029999  168192700\n",
      "2012-05-22  31.000000  101786600\n",
      "2012-05-23  32.000000   73600000\n",
      "2012-05-24  33.029999   50237200\n",
      "Index(['Close', 'Volume'], dtype='object')\n"
     ]
    }
   ],
   "source": [
    "optimal_lag = 100\n",
    "\n",
    "var_df = stocks[ticker.lower()][['Close','Volume']]\n",
    "print(var_df.head())\n",
    "\n",
    "features = var_df.columns\n",
    "print(features)"
   ]
  },
  {
   "cell_type": "code",
   "execution_count": 73,
   "metadata": {},
   "outputs": [],
   "source": [
    "for i in range(1, optimal_lag + 1):\n",
    "    for j in features:\n",
    "        var_df[f\"{j}_Lag_{i}\"] = var_df[j].shift(i)\n",
    "\n",
    "#print(var_df)\n",
    "var_df = var_df.dropna()\n",
    "#print(var_df)"
   ]
  },
  {
   "cell_type": "markdown",
   "metadata": {},
   "source": [
    "### Transform Data Into Matrices"
   ]
  },
  {
   "cell_type": "code",
   "execution_count": 82,
   "metadata": {},
   "outputs": [],
   "source": [
    "y_price = var_df['Close']\n",
    "y_volume = var_df['Volume']\n",
    "var_mx = var_df.drop(['Close','Volume'], axis=1)\n",
    "\n",
    "# Intercept Column with Value 1 Throughout \n",
    "var_mx.insert(0, 'Intercept', 1)\n",
    "\n",
    "# Transform into Matrix \n",
    "X = var_mx.to_numpy()\n",
    "y_price = y_price.to_numpy()\n",
    "y_volume = y_volume.to_numpy()\n",
    "\n",
    "#print('Price: ', y_price)\n",
    "#print('Demand: ', y_volume)\n",
    "#print('Matrix: ', X)\n"
   ]
  },
  {
   "cell_type": "code",
   "execution_count": 83,
   "metadata": {},
   "outputs": [],
   "source": [
    "def NormEquations(X,y):\n",
    "\n",
    "    XtX = np.matmul(X.T, X)\n",
    "    XtY = np.matmul(X.T, y)\n",
    "    XtX_Inv = np.linalg.inv(XtX)\n",
    "\n",
    "    b = np.matmul(XtX_Inv, XtY)\n",
    "\n",
    "    return b"
   ]
  },
  {
   "cell_type": "code",
   "execution_count": 84,
   "metadata": {},
   "outputs": [],
   "source": [
    "b_price = NormEquations(X, y_price)\n",
    "b_demand = NormEquations(X, y_volume)\n",
    "\n",
    "#print('Price: ', b_price)\n",
    "#print('Demand: ', b_demand)"
   ]
  },
  {
   "cell_type": "code",
   "execution_count": 85,
   "metadata": {},
   "outputs": [],
   "source": [
    "price_estimates = []\n",
    "demand_estimates = []\n",
    "\n",
    "for i in var_mx.index: \n",
    "    entry = var_mx.loc[i].to_numpy()\n",
    "    price_hat = np.dot(b_price, entry)\n",
    "    price_estimates.append(price_hat)\n",
    "\n",
    "    demand_hat = np.dot(b_demand, entry)\n",
    "    demand_estimates.append(demand_hat)\n",
    "\n",
    "#print('Price Estimates: ', price_estimates)\n",
    "#print('Demand Estimates: ', demand_estimates)\n",
    "#print(var_mx)"
   ]
  },
  {
   "cell_type": "code",
   "execution_count": 95,
   "metadata": {},
   "outputs": [],
   "source": [
    "N = len(y_price)\n",
    "p = len(var_mx.columns)\n",
    "\n",
    "\n",
    "\n",
    "def SumofSquares(y, X, b):\n",
    "    SStot = np.matmul(y.T, y)\n",
    "    SSreg = np.matmul(np.matmul(y.T, X), b)\n",
    "    SSres = np.matmul((y - np.matmul(X, b)).T, (y - np.matmul(X,b)))\n",
    "    return SStot, SSreg, SSres\n",
    "\n",
    "def RSquared(SSres, SStot, y, n): \n",
    "    R = 1- SSres / (SStot - sum(y) ** 2 / n)\n",
    "    return R\n",
    "\n",
    "def MSE(SSres, n): \n",
    "    M = SSres/n\n",
    "    return M\n",
    "\n",
    "def Fstat(SSreg, SSres, n, p): \n",
    "    F = (SSreg/p) / (SSres / (n-p))\n",
    "    return F\n",
    "\n",
    "def Diagnostics(y, X, b, n, p): \n",
    "    SStot, SSreg, SSres = SumofSquares(y, X, b)\n",
    "    R = RSquared(SSres, SStot, y,n)\n",
    "    #print(\"R-Squared: {}\".format(round(R,2)))\n",
    "    M = MSE(SSres, n)\n",
    "    #print('MSE: {}'.format(round(M,2)))\n",
    "    F = Fstat(SSreg, SSres, n,p)\n",
    "    #print('F-Statistic: {}'.format(round(F,2)))\n",
    "\n",
    "    return print(' R-Squared : {} \\n MSE: {} \\n F-Statistic: {}'.format(round(R,2),round(M,2),round(F,2)))"
   ]
  },
  {
   "cell_type": "code",
   "execution_count": 104,
   "metadata": {},
   "outputs": [
    {
     "name": "stdout",
     "output_type": "stream",
     "text": [
      "Price Data:\n",
      " R-Squared : 1.0 \n",
      " MSE: 14.58 \n",
      " F-Statistic: 23350.03\n",
      "Demand Data:\n",
      " R-Squared : 0.84 \n",
      " MSE: 245109450748366.2 \n",
      " F-Statistic: 57.17\n"
     ]
    }
   ],
   "source": [
    "print(\"Price Data:\")\n",
    "price_diag = Diagnostics(y_price, X, b_price, N, p)\n",
    "print(\"Demand Data:\")\n",
    "demand_diag = Diagnostics(y_volume, X, b_demand, N, p)\n"
   ]
  },
  {
   "cell_type": "code",
   "execution_count": 105,
   "metadata": {},
   "outputs": [],
   "source": [
    "ahead = 100\n",
    "exPost_Price = []\n",
    "exPost_Demand = []\n",
    "\n",
    "data = var_mx.iloc[-1].to_list()\n",
    "\n",
    "for i in range(ahead): \n",
    "    predictPrice = np.dot(data,b_price)\n",
    "    predictDemand = np.dot(data,b_demand)\n",
    "\n",
    "    data = data[:-2]\n",
    "    data.insert(1, predictDemand)\n",
    "    data.insert(1,predictPrice)\n",
    "\n",
    "    exPost_Demand.append(predictDemand)\n",
    "    exPost_Price.append(predictPrice)"
   ]
  },
  {
   "cell_type": "code",
   "execution_count": null,
   "metadata": {},
   "outputs": [],
   "source": []
  }
 ],
 "metadata": {
  "interpreter": {
   "hash": "08a0dfaf3fa74e1b9a1bb705dbe1b2708914f992320bdd77350db063c3b717dd"
  },
  "kernelspec": {
   "display_name": "Python 3.8.8 ('base')",
   "language": "python",
   "name": "python3"
  },
  "language_info": {
   "codemirror_mode": {
    "name": "ipython",
    "version": 3
   },
   "file_extension": ".py",
   "mimetype": "text/x-python",
   "name": "python",
   "nbconvert_exporter": "python",
   "pygments_lexer": "ipython3",
   "version": "3.8.8"
  },
  "orig_nbformat": 4
 },
 "nbformat": 4,
 "nbformat_minor": 2
}
