{
 "cells": [
  {
   "cell_type": "markdown",
   "id": "79ffccba-c5c9-477a-83c3-e7929b2762aa",
   "metadata": {},
   "source": [
    "# **[Alpha Vantage API](https://www.alphavantage.co/documentation/)**\n",
    "---"
   ]
  },
  {
   "cell_type": "code",
   "execution_count": null,
   "id": "4b94a8a7-f52b-45da-ab3f-5fe4c0e8b740",
   "metadata": {},
   "outputs": [],
   "source": [
    "import matplotlib\n",
    "import matplotlib.pyplot as plt\n",
    "matplotlib.rcParams['figure.figsize'] = (20.0,10.0)\n",
    "\n",
    "from IPython.display import Markdown\n",
    "\n",
    "stock = \"MSFT\""
   ]
  },
  {
   "cell_type": "markdown",
   "id": "aa4e2c36-e0de-4547-981e-af34b40e9124",
   "metadata": {},
   "source": [
    "---\n",
    "# Time Series Data\n",
    "---"
   ]
  },
  {
   "cell_type": "markdown",
   "id": "561522c0-e8be-4951-95d6-2ddd44e91826",
   "metadata": {},
   "source": [
    "#### Import Libraries and API"
   ]
  },
  {
   "cell_type": "code",
   "execution_count": null,
   "id": "76a17ae1-be5b-4432-8b9a-d8c8bf6d2922",
   "metadata": {},
   "outputs": [],
   "source": [
    "from alpha_vantage.timeseries import TimeSeries"
   ]
  },
  {
   "cell_type": "code",
   "execution_count": null,
   "id": "d475cb98-07f7-4507-935b-cbe0789bc53b",
   "metadata": {},
   "outputs": [],
   "source": [
    "ts = TimeSeries(key = 'ALPHA_VANTAGE_API_KEY',output_format = 'pandas')\n",
    "data, meta_data = ts.get_intraday(symbol = stock, interval = '1min', outputsize = 'full')\n",
    "\n",
    "data.describe()"
   ]
  },
  {
   "cell_type": "markdown",
   "id": "8472ac35-c03f-4fb4-82e3-fd6a00a021f3",
   "metadata": {},
   "source": [
    "#### Plot Data"
   ]
  },
  {
   "cell_type": "code",
   "execution_count": null,
   "id": "d378a392-60f6-42a8-b5c3-09ceefcb3df5",
   "metadata": {},
   "outputs": [],
   "source": [
    "data['4. close'].plot()\n",
    "plt.title(f\"Intraday Time Series for [{stock}] stock (1 min)\")\n",
    "plt.grid()\n",
    "plt.show()"
   ]
  },
  {
   "cell_type": "code",
   "execution_count": null,
   "id": "fa1513f9-1cb2-4070-a943-62a87fb84d92",
   "metadata": {},
   "outputs": [],
   "source": [
    "meta_data"
   ]
  },
  {
   "cell_type": "markdown",
   "id": "9db098ef-912a-4e4d-a675-409dec9b269a",
   "metadata": {},
   "source": [
    "## Get CSV Data"
   ]
  },
  {
   "cell_type": "code",
   "execution_count": null,
   "id": "5272fd46-7a47-4d04-a851-fcb5ac5cd388",
   "metadata": {},
   "outputs": [],
   "source": [
    "ts = TimeSeries(key = 'ALPHA_VANTAGE_API_KEY',output_format = 'csv')\n",
    "data_csv, _ = ts.get_intraday(symbol = stock, interval = '1min', outputsize = 'compact')\n",
    "data_csv"
   ]
  },
  {
   "cell_type": "markdown",
   "id": "be71e930-57b0-4615-b493-f447a5eed67b",
   "metadata": {},
   "source": [
    "## Plot Time Series"
   ]
  },
  {
   "cell_type": "code",
   "execution_count": null,
   "id": "ef84cb40-aecc-4796-a022-0e47e783a52d",
   "metadata": {},
   "outputs": [],
   "source": [
    "data = data.drop('5. volume',1)\n",
    "data.plot()\n",
    "plt.title(f'Intraday Time Series for [{stock}] (1min)')\n",
    "plt.grid()\n",
    "plt.show()"
   ]
  },
  {
   "cell_type": "markdown",
   "id": "5fafce39-7e9f-4a81-ac3b-7d91e1df8e67",
   "metadata": {},
   "source": [
    "## Other Various TimeSeries Uses"
   ]
  },
  {
   "cell_type": "code",
   "execution_count": null,
   "id": "554ad5c7-ac03-4667-b7d5-f3df11c3c62c",
   "metadata": {},
   "outputs": [],
   "source": [
    "ts.output_format = 'pandas'\n",
    "data, meta_data = ts.get_quote_endpoint('MSFT')\n",
    "data.describe()"
   ]
  },
  {
   "cell_type": "code",
   "execution_count": null,
   "id": "f6b08ce8-359c-457f-bb60-b88bf7855281",
   "metadata": {},
   "outputs": [],
   "source": [
    "ts.output_format = 'pandas'\n",
    "data, meta_data = ts.get_monthly('MSFT')\n",
    "data.describe()"
   ]
  },
  {
   "cell_type": "code",
   "execution_count": null,
   "id": "c3dbf835-457a-4af0-a1bb-7af233682d3e",
   "metadata": {},
   "outputs": [],
   "source": [
    "ts.output_format = 'pandas'\n",
    "data, meta_data = ts.get_symbol_search('MSFT')\n",
    "data.describe()"
   ]
  },
  {
   "cell_type": "markdown",
   "id": "c62ebd6d-06e6-45d9-9e96-d3f3f8c64ef7",
   "metadata": {},
   "source": [
    "---\n",
    "# Sector Performance\n",
    "---"
   ]
  },
  {
   "cell_type": "code",
   "execution_count": null,
   "id": "6b1252ac-cda6-475f-bddc-93a6a8c08bb8",
   "metadata": {},
   "outputs": [],
   "source": [
    "from alpha_vantage.sectorperformance import SectorPerformances "
   ]
  },
  {
   "cell_type": "code",
   "execution_count": null,
   "id": "2bd7704e-a021-459e-8603-d1b582375217",
   "metadata": {},
   "outputs": [],
   "source": [
    "sp = SectorPerformances(key='ALPHA_VANTAGE_API_KEY', output_format='pandas')\n",
    "data, meta_data = sp.get_sector()\n",
    "data.describe()"
   ]
  },
  {
   "cell_type": "code",
   "execution_count": null,
   "id": "cbf8257d-bd00-4e31-8505-bc85a37a2b23",
   "metadata": {},
   "outputs": [],
   "source": [
    "meta_data"
   ]
  },
  {
   "cell_type": "code",
   "execution_count": null,
   "id": "38aa8450-0a88-4a17-8877-5674a0c64f33",
   "metadata": {},
   "outputs": [],
   "source": [
    "data['Rank A: Real-Time Performance'].plot(kind='bar')\n",
    "plt.title('Performance by Sector')\n",
    "plt.tight_layout()\n",
    "plt.grid()\n",
    "plt.show()"
   ]
  },
  {
   "cell_type": "markdown",
   "id": "90a6335a-4048-474b-abcb-e84a8ac75109",
   "metadata": {},
   "source": [
    "---\n",
    "# Crypto Currency Analysis\n",
    "---"
   ]
  },
  {
   "cell_type": "code",
   "execution_count": null,
   "id": "2dc93fb3-cc27-4b67-bbf4-de4bdc8c18cf",
   "metadata": {},
   "outputs": [],
   "source": [
    "from alpha_vantage.cryptocurrencies import CryptoCurrencies\n",
    "\n",
    "crypto = 'BTC'\n",
    "mkt = 'CNY'"
   ]
  },
  {
   "cell_type": "code",
   "execution_count": null,
   "id": "f19bb371-d67a-483c-84e2-41d8be21f8a3",
   "metadata": {},
   "outputs": [],
   "source": [
    "cc = CryptoCurrencies(key='ALPHA_VANTAGE_API_KEY', output_format = 'pandas')\n",
    "data, meta_data = cc.get_digital_currency_daily(symbol = crypto, market = mkt)\n",
    "data.describe()"
   ]
  },
  {
   "cell_type": "code",
   "execution_count": null,
   "id": "88d631ca-327c-4fb5-ae12-6c42590b0a9b",
   "metadata": {},
   "outputs": [],
   "source": [
    "data.head(5)"
   ]
  },
  {
   "cell_type": "code",
   "execution_count": null,
   "id": "401d5cd5-d3b6-4012-a321-b71dff3c38b2",
   "metadata": {},
   "outputs": [],
   "source": [
    "data['4b. close (USD)'].plot()\n",
    "plt.tight_layout()\n",
    "plt.title(f'Daily Close Value for [{crypto}]')\n",
    "plt.grid()\n",
    "plt.show()"
   ]
  },
  {
   "cell_type": "markdown",
   "id": "581f808e-1f60-4dc2-aad4-c98f5e5da95c",
   "metadata": {},
   "source": [
    "---\n",
    "# Foreign Exchange (FX)\n",
    "---"
   ]
  },
  {
   "cell_type": "code",
   "execution_count": null,
   "id": "ec313142-27c8-440b-89c6-898fb1b24e1f",
   "metadata": {},
   "outputs": [],
   "source": [
    "from alpha_vantage.foreignexchange import ForeignExchange\n",
    "from pprint import pprint\n",
    "\n",
    "curr1 = 'BTC'\n",
    "curr2 = 'USD'"
   ]
  },
  {
   "cell_type": "code",
   "execution_count": null,
   "id": "c4baccd4-c61e-42c3-b47f-a4e50937ae30",
   "metadata": {},
   "outputs": [],
   "source": [
    "cc = ForeignExchange(key='ALPHA_VANTAGE_API_KEY')\n",
    "# no metadata in this call\n",
    "data, _ = cc.get_currency_exchange_rate(from_currency=curr1, to_currency=curr2)\n",
    "pprint(data)"
   ]
  },
  {
   "cell_type": "code",
   "execution_count": null,
   "id": "a9f45cfa-b821-4924-96c0-dd039ab3e69c",
   "metadata": {},
   "outputs": [],
   "source": []
  },
  {
   "cell_type": "code",
   "execution_count": null,
   "id": "be8ee005-3b7a-464b-93e8-c9b3738a6e0a",
   "metadata": {},
   "outputs": [],
   "source": []
  },
  {
   "cell_type": "code",
   "execution_count": null,
   "id": "dabd3db3-1021-4657-ad94-cab8ce286a19",
   "metadata": {},
   "outputs": [],
   "source": []
  },
  {
   "cell_type": "code",
   "execution_count": null,
   "id": "f3336cdb-65f8-4289-886c-4e77f9ec073e",
   "metadata": {},
   "outputs": [],
   "source": []
  }
 ],
 "metadata": {
  "kernelspec": {
   "display_name": "Python 3",
   "language": "python",
   "name": "python3"
  },
  "language_info": {
   "codemirror_mode": {
    "name": "ipython",
    "version": 3
   },
   "file_extension": ".py",
   "mimetype": "text/x-python",
   "name": "python",
   "nbconvert_exporter": "python",
   "pygments_lexer": "ipython3",
   "version": "3.8.8"
  }
 },
 "nbformat": 4,
 "nbformat_minor": 5
}
