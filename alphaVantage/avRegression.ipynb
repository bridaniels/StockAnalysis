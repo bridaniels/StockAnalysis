{
 "cells": [
  {
   "cell_type": "markdown",
   "id": "5b0aad9c-20c6-43ee-b062-66124d9a6fce",
   "metadata": {},
   "source": [
    "# **[Alpha Vantage](https://www.alphavantage.co/documentation/) Simple Regression**\n",
    "---"
   ]
  },
  {
   "cell_type": "code",
   "execution_count": 1,
   "id": "ce36cf78-caf4-49af-9a95-3613608cc820",
   "metadata": {},
   "outputs": [],
   "source": [
    "import numpy as np\n",
    "import pandas as pd\n",
    "# import pandas_datareader as pdr\n",
    "\n",
    "import matplotlib\n",
    "import matplotlib.pyplot as plt\n",
    "matplotlib.rcParams['figure.figsize'] = (20.0,10.0)\n",
    "\n",
    "import seaborn as sb\n",
    "sb.set()\n",
    "\n",
    "import datetime as dt\n",
    "\n",
    "from alpha_vantage.timeseries import TimeSeries"
   ]
  },
  {
   "cell_type": "code",
   "execution_count": 2,
   "id": "3a24ab65-9e19-48ff-8ffc-8a25c89bdb16",
   "metadata": {},
   "outputs": [],
   "source": [
    "stock1 = 'GOOG'\n",
    "stock2 = 'AAPL'\n",
    "start = dt.date.today() - dt.timedelta(365)\n",
    "plot_range = 252\n",
    "s = 60"
   ]
  },
  {
   "cell_type": "markdown",
   "id": "1206ab36-b08c-4d4a-b26e-fbfda24879c4",
   "metadata": {},
   "source": [
    "### Import Data via Yahoo and pandas_datareader"
   ]
  },
  {
   "cell_type": "code",
   "execution_count": 3,
   "id": "0ed2a251-3e18-4709-b243-4c8e54b77452",
   "metadata": {},
   "outputs": [
    {
     "data": {
      "text/plain": [
       "['GOOG', 'AAPL']"
      ]
     },
     "execution_count": 3,
     "metadata": {},
     "output_type": "execute_result"
    }
   ],
   "source": [
    "stocks = [stock1,stock2]\n",
    "stocks"
   ]
  },
  {
   "cell_type": "code",
   "execution_count": 4,
   "id": "aa743b69-f970-4e4e-9f65-ed44b9707786",
   "metadata": {},
   "outputs": [],
   "source": [
    "# data = pdr.get_data_yahoo(stocks,start)['Close']\n",
    "# data.head()"
   ]
  },
  {
   "cell_type": "markdown",
   "id": "ccdf0d0c-57ab-45eb-a9a9-6102abecae62",
   "metadata": {},
   "source": [
    "## Import Data via Alpha Vantage API and Clean"
   ]
  },
  {
   "cell_type": "code",
   "execution_count": 5,
   "id": "2154eb18-11e1-44c8-b315-ab8f3f707787",
   "metadata": {},
   "outputs": [
    {
     "data": {
      "text/plain": [
       "{'1. Information': 'Daily Prices (open, high, low, close) and Volumes',\n",
       " '2. Symbol': 'GOOG',\n",
       " '3. Last Refreshed': '2022-03-04',\n",
       " '4. Output Size': 'Full size',\n",
       " '5. Time Zone': 'US/Eastern'}"
      ]
     },
     "execution_count": 5,
     "metadata": {},
     "output_type": "execute_result"
    }
   ],
   "source": [
    "ts1 = TimeSeries(key = 'ALPHA_VANTAGE_API_KEY',output_format = 'pandas')\n",
    "data1, meta_data1 = ts1.get_daily(symbol = stock1, outputsize = 'full')\n",
    "\n",
    "meta_data1"
   ]
  },
  {
   "cell_type": "code",
   "execution_count": 6,
   "id": "e6dd5a42-9c25-4c9a-a733-b26b0fd7ccac",
   "metadata": {},
   "outputs": [
    {
     "name": "stdout",
     "output_type": "stream",
     "text": [
      "<class 'pandas.core.frame.DataFrame'>\n",
      "DatetimeIndex: 2000 entries, 2022-03-04 to 2014-03-27\n",
      "Data columns (total 1 columns):\n",
      " #   Column  Non-Null Count  Dtype  \n",
      "---  ------  --------------  -----  \n",
      " 0   GOOG    2000 non-null   float64\n",
      "dtypes: float64(1)\n",
      "memory usage: 31.2 KB\n"
     ]
    }
   ],
   "source": [
    "columns = ['open','high','low',stock1,'volume']\n",
    "data1.columns = columns\n",
    "data1 = data1.drop(['open','high','low','volume'],1)\n",
    "\n",
    "\n",
    "data1.info()"
   ]
  },
  {
   "cell_type": "code",
   "execution_count": 7,
   "id": "a28a496a-9a8a-43f9-a8f4-66ade5794e8c",
   "metadata": {},
   "outputs": [
    {
     "data": {
      "text/plain": [
       "{'1. Information': 'Daily Prices (open, high, low, close) and Volumes',\n",
       " '2. Symbol': 'AAPL',\n",
       " '3. Last Refreshed': '2022-03-04',\n",
       " '4. Output Size': 'Full size',\n",
       " '5. Time Zone': 'US/Eastern'}"
      ]
     },
     "execution_count": 7,
     "metadata": {},
     "output_type": "execute_result"
    }
   ],
   "source": [
    "ts2 = TimeSeries(key = 'ALPHA_VANTAGE_API_KEY',output_format = 'pandas')\n",
    "data2, meta_data2 = ts2.get_daily(symbol = stock2, outputsize = 'full')\n",
    "\n",
    "meta_data2"
   ]
  },
  {
   "cell_type": "code",
   "execution_count": 8,
   "id": "88cd4eb3-5519-481e-82e5-b8de2808a931",
   "metadata": {},
   "outputs": [
    {
     "name": "stdout",
     "output_type": "stream",
     "text": [
      "<class 'pandas.core.frame.DataFrame'>\n",
      "DatetimeIndex: 5622 entries, 2022-03-04 to 1999-11-01\n",
      "Data columns (total 1 columns):\n",
      " #   Column  Non-Null Count  Dtype  \n",
      "---  ------  --------------  -----  \n",
      " 0   AAPL    5622 non-null   float64\n",
      "dtypes: float64(1)\n",
      "memory usage: 87.8 KB\n"
     ]
    }
   ],
   "source": [
    "columns2 = ['open','high','low',stock2,'volume']\n",
    "data2.columns = columns2\n",
    "data2 = data2.drop(['open','high','low','volume'],1)\n",
    "\n",
    "data2.info()"
   ]
  },
  {
   "cell_type": "code",
   "execution_count": 9,
   "id": "1a55c29f-f1d2-47bc-8c61-be5b3a1f19ae",
   "metadata": {},
   "outputs": [
    {
     "data": {
      "text/html": [
       "<div>\n",
       "<style scoped>\n",
       "    .dataframe tbody tr th:only-of-type {\n",
       "        vertical-align: middle;\n",
       "    }\n",
       "\n",
       "    .dataframe tbody tr th {\n",
       "        vertical-align: top;\n",
       "    }\n",
       "\n",
       "    .dataframe thead th {\n",
       "        text-align: right;\n",
       "    }\n",
       "</style>\n",
       "<table border=\"1\" class=\"dataframe\">\n",
       "  <thead>\n",
       "    <tr style=\"text-align: right;\">\n",
       "      <th></th>\n",
       "      <th>GOOG</th>\n",
       "      <th>AAPL</th>\n",
       "    </tr>\n",
       "    <tr>\n",
       "      <th>date</th>\n",
       "      <th></th>\n",
       "      <th></th>\n",
       "    </tr>\n",
       "  </thead>\n",
       "  <tbody>\n",
       "    <tr>\n",
       "      <th>1999-11-01</th>\n",
       "      <td>NaN</td>\n",
       "      <td>77.62</td>\n",
       "    </tr>\n",
       "    <tr>\n",
       "      <th>1999-11-02</th>\n",
       "      <td>NaN</td>\n",
       "      <td>80.25</td>\n",
       "    </tr>\n",
       "    <tr>\n",
       "      <th>1999-11-03</th>\n",
       "      <td>NaN</td>\n",
       "      <td>81.50</td>\n",
       "    </tr>\n",
       "    <tr>\n",
       "      <th>1999-11-04</th>\n",
       "      <td>NaN</td>\n",
       "      <td>83.62</td>\n",
       "    </tr>\n",
       "    <tr>\n",
       "      <th>1999-11-05</th>\n",
       "      <td>NaN</td>\n",
       "      <td>88.31</td>\n",
       "    </tr>\n",
       "    <tr>\n",
       "      <th>...</th>\n",
       "      <td>...</td>\n",
       "      <td>...</td>\n",
       "    </tr>\n",
       "    <tr>\n",
       "      <th>2022-02-28</th>\n",
       "      <td>2697.82</td>\n",
       "      <td>165.12</td>\n",
       "    </tr>\n",
       "    <tr>\n",
       "      <th>2022-03-01</th>\n",
       "      <td>2683.36</td>\n",
       "      <td>163.20</td>\n",
       "    </tr>\n",
       "    <tr>\n",
       "      <th>2022-03-02</th>\n",
       "      <td>2695.03</td>\n",
       "      <td>166.56</td>\n",
       "    </tr>\n",
       "    <tr>\n",
       "      <th>2022-03-03</th>\n",
       "      <td>2686.16</td>\n",
       "      <td>166.23</td>\n",
       "    </tr>\n",
       "    <tr>\n",
       "      <th>2022-03-04</th>\n",
       "      <td>2642.44</td>\n",
       "      <td>163.17</td>\n",
       "    </tr>\n",
       "  </tbody>\n",
       "</table>\n",
       "<p>5622 rows × 2 columns</p>\n",
       "</div>"
      ],
      "text/plain": [
       "               GOOG    AAPL\n",
       "date                       \n",
       "1999-11-01      NaN   77.62\n",
       "1999-11-02      NaN   80.25\n",
       "1999-11-03      NaN   81.50\n",
       "1999-11-04      NaN   83.62\n",
       "1999-11-05      NaN   88.31\n",
       "...             ...     ...\n",
       "2022-02-28  2697.82  165.12\n",
       "2022-03-01  2683.36  163.20\n",
       "2022-03-02  2695.03  166.56\n",
       "2022-03-03  2686.16  166.23\n",
       "2022-03-04  2642.44  163.17\n",
       "\n",
       "[5622 rows x 2 columns]"
      ]
     },
     "execution_count": 9,
     "metadata": {},
     "output_type": "execute_result"
    }
   ],
   "source": [
    "vertical = pd.concat([data1,data2], axis = 1)\n",
    "vertical "
   ]
  },
  {
   "cell_type": "code",
   "execution_count": 10,
   "id": "c1337e69-dfad-44f4-9d17-8ab5e068cc7a",
   "metadata": {},
   "outputs": [
    {
     "data": {
      "text/html": [
       "<div>\n",
       "<style scoped>\n",
       "    .dataframe tbody tr th:only-of-type {\n",
       "        vertical-align: middle;\n",
       "    }\n",
       "\n",
       "    .dataframe tbody tr th {\n",
       "        vertical-align: top;\n",
       "    }\n",
       "\n",
       "    .dataframe thead th {\n",
       "        text-align: right;\n",
       "    }\n",
       "</style>\n",
       "<table border=\"1\" class=\"dataframe\">\n",
       "  <thead>\n",
       "    <tr style=\"text-align: right;\">\n",
       "      <th></th>\n",
       "      <th>GOOG</th>\n",
       "      <th>AAPL</th>\n",
       "    </tr>\n",
       "    <tr>\n",
       "      <th>date</th>\n",
       "      <th></th>\n",
       "      <th></th>\n",
       "    </tr>\n",
       "  </thead>\n",
       "  <tbody>\n",
       "    <tr>\n",
       "      <th>2022-02-28</th>\n",
       "      <td>0.002758</td>\n",
       "      <td>0.001637</td>\n",
       "    </tr>\n",
       "    <tr>\n",
       "      <th>2022-03-01</th>\n",
       "      <td>-0.005374</td>\n",
       "      <td>-0.011696</td>\n",
       "    </tr>\n",
       "    <tr>\n",
       "      <th>2022-03-02</th>\n",
       "      <td>0.004340</td>\n",
       "      <td>0.020379</td>\n",
       "    </tr>\n",
       "    <tr>\n",
       "      <th>2022-03-03</th>\n",
       "      <td>-0.003297</td>\n",
       "      <td>-0.001983</td>\n",
       "    </tr>\n",
       "    <tr>\n",
       "      <th>2022-03-04</th>\n",
       "      <td>-0.016410</td>\n",
       "      <td>-0.018580</td>\n",
       "    </tr>\n",
       "  </tbody>\n",
       "</table>\n",
       "</div>"
      ],
      "text/plain": [
       "                GOOG      AAPL\n",
       "date                          \n",
       "2022-02-28  0.002758  0.001637\n",
       "2022-03-01 -0.005374 -0.011696\n",
       "2022-03-02  0.004340  0.020379\n",
       "2022-03-03 -0.003297 -0.001983\n",
       "2022-03-04 -0.016410 -0.018580"
      ]
     },
     "execution_count": 10,
     "metadata": {},
     "output_type": "execute_result"
    }
   ],
   "source": [
    "returns = (np.log(vertical).diff()).dropna()\n",
    "returns.tail()"
   ]
  },
  {
   "cell_type": "code",
   "execution_count": 11,
   "id": "44977119-660e-4c19-9605-60026579421d",
   "metadata": {},
   "outputs": [
    {
     "data": {
      "text/html": [
       "<div>\n",
       "<style scoped>\n",
       "    .dataframe tbody tr th:only-of-type {\n",
       "        vertical-align: middle;\n",
       "    }\n",
       "\n",
       "    .dataframe tbody tr th {\n",
       "        vertical-align: top;\n",
       "    }\n",
       "\n",
       "    .dataframe thead th {\n",
       "        text-align: right;\n",
       "    }\n",
       "</style>\n",
       "<table border=\"1\" class=\"dataframe\">\n",
       "  <thead>\n",
       "    <tr style=\"text-align: right;\">\n",
       "      <th></th>\n",
       "      <th>GOOG</th>\n",
       "      <th>AAPL</th>\n",
       "    </tr>\n",
       "  </thead>\n",
       "  <tbody>\n",
       "    <tr>\n",
       "      <th>GOOG</th>\n",
       "      <td>1.000000</td>\n",
       "      <td>0.107762</td>\n",
       "    </tr>\n",
       "    <tr>\n",
       "      <th>AAPL</th>\n",
       "      <td>0.107762</td>\n",
       "      <td>1.000000</td>\n",
       "    </tr>\n",
       "  </tbody>\n",
       "</table>\n",
       "</div>"
      ],
      "text/plain": [
       "          GOOG      AAPL\n",
       "GOOG  1.000000  0.107762\n",
       "AAPL  0.107762  1.000000"
      ]
     },
     "execution_count": 11,
     "metadata": {},
     "output_type": "execute_result"
    }
   ],
   "source": [
    "sample_corr = returns.sample(s).corr()\n",
    "sample_corr"
   ]
  },
  {
   "cell_type": "code",
   "execution_count": 12,
   "id": "5c7218c8-6557-4522-8f8b-1e6ed7e964e3",
   "metadata": {},
   "outputs": [
    {
     "data": {
      "image/png": "[encoded data removed]",
      "text/plain": [
       "<Figure size 1440x720 with 1 Axes>"
      ]
     },
     "metadata": {},
     "output_type": "display_data"
    }
   ],
   "source": [
    "sample = returns.sample(s)\n",
    "plt.scatter(x=sample[stock2], y=sample[stock1]);"
   ]
  },
  {
   "cell_type": "code",
   "execution_count": 13,
   "id": "99d8f691-d847-4779-936a-0c5c1a13ca25",
   "metadata": {},
   "outputs": [
    {
     "data": {
      "text/plain": [
       "array([ 0.40317618, -0.00094519])"
      ]
     },
     "execution_count": 13,
     "metadata": {},
     "output_type": "execute_result"
    }
   ],
   "source": [
    "reg = np.polyfit(sample[stock2], sample[stock1], deg = 1)\n",
    "reg"
   ]
  },
  {
   "cell_type": "code",
   "execution_count": 14,
   "id": "12ae7f98-e177-47d1-ab1f-e16a3d63ea32",
   "metadata": {},
   "outputs": [
    {
     "data": {
      "image/png": "[encoded data removed]",
      "text/plain": [
       "<Figure size 1440x720 with 1 Axes>"
      ]
     },
     "metadata": {},
     "output_type": "display_data"
    }
   ],
   "source": [
    "trend = np.polyval(reg, sample[stock2])\n",
    "plt.scatter(sample[stock2],sample[stock1])\n",
    "plt.plot(sample[stock2],trend, 'r')\n",
    "plt.title(f'Trend Line Between y-axis: {stock1} and x-axis: {stock2}');"
   ]
  },
  {
   "cell_type": "markdown",
   "id": "d59cbd7e-64ee-4fb0-8bfa-eda39bfbac1c",
   "metadata": {},
   "source": [
    "---\n",
    "## Regression as Technical Indicator \n",
    "---"
   ]
  },
  {
   "cell_type": "code",
   "execution_count": 15,
   "id": "abf6c58e-17ae-41f0-87ae-ec77aa45973f",
   "metadata": {},
   "outputs": [],
   "source": [
    "regStock = 'TSLA'"
   ]
  },
  {
   "cell_type": "code",
   "execution_count": 16,
   "id": "5f2da7a5-2162-4835-b2f6-7d745e0db797",
   "metadata": {},
   "outputs": [
    {
     "data": {
      "text/plain": [
       "{'1. Information': 'Daily Prices (open, high, low, close) and Volumes',\n",
       " '2. Symbol': 'TSLA',\n",
       " '3. Last Refreshed': '2022-03-04',\n",
       " '4. Output Size': 'Full size',\n",
       " '5. Time Zone': 'US/Eastern'}"
      ]
     },
     "execution_count": 16,
     "metadata": {},
     "output_type": "execute_result"
    }
   ],
   "source": [
    "tsR = TimeSeries(key = 'ALPHA_VANTAGE_API_KEY',output_format = 'pandas')\n",
    "dataR, meta_dataR = tsR.get_daily(symbol = regStock, outputsize = 'full')\n",
    "\n",
    "meta_dataR"
   ]
  },
  {
   "cell_type": "code",
   "execution_count": 17,
   "id": "d351f4da-82b6-4a2b-9bff-83d51a63954c",
   "metadata": {},
   "outputs": [
    {
     "data": {
      "text/html": [
       "<div>\n",
       "<style scoped>\n",
       "    .dataframe tbody tr th:only-of-type {\n",
       "        vertical-align: middle;\n",
       "    }\n",
       "\n",
       "    .dataframe tbody tr th {\n",
       "        vertical-align: top;\n",
       "    }\n",
       "\n",
       "    .dataframe thead th {\n",
       "        text-align: right;\n",
       "    }\n",
       "</style>\n",
       "<table border=\"1\" class=\"dataframe\">\n",
       "  <thead>\n",
       "    <tr style=\"text-align: right;\">\n",
       "      <th></th>\n",
       "      <th>1. open</th>\n",
       "      <th>2. high</th>\n",
       "      <th>3. low</th>\n",
       "      <th>4. close</th>\n",
       "      <th>5. volume</th>\n",
       "    </tr>\n",
       "    <tr>\n",
       "      <th>date</th>\n",
       "      <th></th>\n",
       "      <th></th>\n",
       "      <th></th>\n",
       "      <th></th>\n",
       "      <th></th>\n",
       "    </tr>\n",
       "  </thead>\n",
       "  <tbody>\n",
       "    <tr>\n",
       "      <th>2022-03-04</th>\n",
       "      <td>849.10</td>\n",
       "      <td>855.650</td>\n",
       "      <td>825.1609</td>\n",
       "      <td>838.29</td>\n",
       "      <td>22183372.0</td>\n",
       "    </tr>\n",
       "    <tr>\n",
       "      <th>2022-03-03</th>\n",
       "      <td>878.77</td>\n",
       "      <td>886.439</td>\n",
       "      <td>832.6001</td>\n",
       "      <td>839.29</td>\n",
       "      <td>20541169.0</td>\n",
       "    </tr>\n",
       "    <tr>\n",
       "      <th>2022-03-02</th>\n",
       "      <td>872.13</td>\n",
       "      <td>886.480</td>\n",
       "      <td>844.2721</td>\n",
       "      <td>879.89</td>\n",
       "      <td>24881146.0</td>\n",
       "    </tr>\n",
       "    <tr>\n",
       "      <th>2022-03-01</th>\n",
       "      <td>869.68</td>\n",
       "      <td>889.880</td>\n",
       "      <td>853.7800</td>\n",
       "      <td>864.37</td>\n",
       "      <td>24922287.0</td>\n",
       "    </tr>\n",
       "    <tr>\n",
       "      <th>2022-02-28</th>\n",
       "      <td>815.01</td>\n",
       "      <td>876.860</td>\n",
       "      <td>814.7075</td>\n",
       "      <td>870.43</td>\n",
       "      <td>33002289.0</td>\n",
       "    </tr>\n",
       "  </tbody>\n",
       "</table>\n",
       "</div>"
      ],
      "text/plain": [
       "            1. open  2. high    3. low  4. close   5. volume\n",
       "date                                                        \n",
       "2022-03-04   849.10  855.650  825.1609    838.29  22183372.0\n",
       "2022-03-03   878.77  886.439  832.6001    839.29  20541169.0\n",
       "2022-03-02   872.13  886.480  844.2721    879.89  24881146.0\n",
       "2022-03-01   869.68  889.880  853.7800    864.37  24922287.0\n",
       "2022-02-28   815.01  876.860  814.7075    870.43  33002289.0"
      ]
     },
     "execution_count": 17,
     "metadata": {},
     "output_type": "execute_result"
    }
   ],
   "source": [
    "dataR.head()"
   ]
  },
  {
   "cell_type": "code",
   "execution_count": 18,
   "id": "49f3c383-36d7-4567-a7d6-df5f3a080b3c",
   "metadata": {},
   "outputs": [
    {
     "name": "stdout",
     "output_type": "stream",
     "text": [
      "<class 'pandas.core.frame.DataFrame'>\n",
      "DatetimeIndex: 254 entries, 2022-03-04 to 2021-03-04\n",
      "Data columns (total 1 columns):\n",
      " #   Column  Non-Null Count  Dtype  \n",
      "---  ------  --------------  -----  \n",
      " 0   close   254 non-null    float64\n",
      "dtypes: float64(1)\n",
      "memory usage: 4.0 KB\n"
     ]
    }
   ],
   "source": [
    "columnsR = ['open','high','low','close','volume']\n",
    "dataR.columns = columnsR\n",
    "dataR = dataR.drop(['open','high','low','volume'],1)\n",
    "# Just Take Past Years Trading Data \n",
    "dataR = dataR[:start]\n",
    "\n",
    "dataR.info()"
   ]
  },
  {
   "cell_type": "code",
   "execution_count": 19,
   "id": "a852196e-ca8b-4948-98a1-d7d3c160e89b",
   "metadata": {},
   "outputs": [
    {
     "data": {
      "text/html": [
       "<div>\n",
       "<style scoped>\n",
       "    .dataframe tbody tr th:only-of-type {\n",
       "        vertical-align: middle;\n",
       "    }\n",
       "\n",
       "    .dataframe tbody tr th {\n",
       "        vertical-align: top;\n",
       "    }\n",
       "\n",
       "    .dataframe thead th {\n",
       "        text-align: right;\n",
       "    }\n",
       "</style>\n",
       "<table border=\"1\" class=\"dataframe\">\n",
       "  <thead>\n",
       "    <tr style=\"text-align: right;\">\n",
       "      <th></th>\n",
       "      <th>time</th>\n",
       "      <th>close</th>\n",
       "    </tr>\n",
       "    <tr>\n",
       "      <th>date</th>\n",
       "      <th></th>\n",
       "      <th></th>\n",
       "    </tr>\n",
       "  </thead>\n",
       "  <tbody>\n",
       "    <tr>\n",
       "      <th>2021-03-10</th>\n",
       "      <td>250</td>\n",
       "      <td>668.06</td>\n",
       "    </tr>\n",
       "    <tr>\n",
       "      <th>2021-03-09</th>\n",
       "      <td>251</td>\n",
       "      <td>673.58</td>\n",
       "    </tr>\n",
       "    <tr>\n",
       "      <th>2021-03-08</th>\n",
       "      <td>252</td>\n",
       "      <td>563.00</td>\n",
       "    </tr>\n",
       "    <tr>\n",
       "      <th>2021-03-05</th>\n",
       "      <td>253</td>\n",
       "      <td>597.95</td>\n",
       "    </tr>\n",
       "    <tr>\n",
       "      <th>2021-03-04</th>\n",
       "      <td>254</td>\n",
       "      <td>621.44</td>\n",
       "    </tr>\n",
       "  </tbody>\n",
       "</table>\n",
       "</div>"
      ],
      "text/plain": [
       "            time   close\n",
       "date                    \n",
       "2021-03-10   250  668.06\n",
       "2021-03-09   251  673.58\n",
       "2021-03-08   252  563.00\n",
       "2021-03-05   253  597.95\n",
       "2021-03-04   254  621.44"
      ]
     },
     "execution_count": 19,
     "metadata": {},
     "output_type": "execute_result"
    }
   ],
   "source": [
    "time = np.arange(1, len(dataR) + 1)\n",
    "dataR['time'] = time\n",
    "dataR = dataR[['time', 'close']]\n",
    "dataR = round(dataR, 2)\n",
    "dataR.tail()"
   ]
  },
  {
   "cell_type": "code",
   "execution_count": 20,
   "id": "3d5466b3-d77e-4804-81a1-497d68c08007",
   "metadata": {},
   "outputs": [
    {
     "data": {
      "text/plain": [
       "array([  -1.81133447, 1034.04231085])"
      ]
     },
     "execution_count": 20,
     "metadata": {},
     "output_type": "execute_result"
    }
   ],
   "source": [
    "regR = np.polyfit(dataR['time'],dataR['close'], deg = 1)\n",
    "regR"
   ]
  },
  {
   "cell_type": "code",
   "execution_count": 21,
   "id": "e65f6d2c-b7e7-409c-b06c-5abae619f36b",
   "metadata": {},
   "outputs": [],
   "source": [
    "slicer = -50"
   ]
  },
  {
   "cell_type": "code",
   "execution_count": 22,
   "id": "fb0d967a-23a2-4455-8536-991bfb98992f",
   "metadata": {},
   "outputs": [
    {
     "data": {
      "image/png": "[encoded data removed]",
      "text/plain": [
       "<Figure size 1440x720 with 1 Axes>"
      ]
     },
     "metadata": {},
     "output_type": "display_data"
    }
   ],
   "source": [
    "trendR = np.polyval(regR, dataR['time'][slicer:])\n",
    "std = dataR['close'][slicer:].std()\n",
    "plt.plot(dataR['time'], dataR['close'], label = \"S&P 500\")\n",
    "plt.plot(dataR['time'][slicer:], trendR, 'r--')\n",
    "plt.plot(dataR['time'][slicer:], trendR - std, 'g--')\n",
    "plt.plot(dataR['time'][slicer:], trendR + std, 'g--');"
   ]
  },
  {
   "cell_type": "code",
   "execution_count": 23,
   "id": "a3c04310-a0c2-4fd3-b164-b08861e800ef",
   "metadata": {},
   "outputs": [
    {
     "data": {
      "text/plain": [
       "490.6419685039373"
      ]
     },
     "execution_count": 23,
     "metadata": {},
     "output_type": "execute_result"
    }
   ],
   "source": [
    "predict = np.poly1d(regR)\n",
    "predict(300)"
   ]
  },
  {
   "cell_type": "code",
   "execution_count": 24,
   "id": "94b3c789-c2b6-4ba6-a497-df03b0f154e3",
   "metadata": {},
   "outputs": [
    {
     "data": {
      "image/png": "[encoded data removed]",
      "text/plain": [
       "<Figure size 1440x720 with 1 Axes>"
      ]
     },
     "metadata": {},
     "output_type": "display_data"
    }
   ],
   "source": [
    "sb.regplot(x='time',y='close', ci=None, fit_reg=True, data=dataR[slicer:]);"
   ]
  },
  {
   "cell_type": "code",
   "execution_count": null,
   "id": "746fd68e-2fb0-469a-8e00-a096cff07dbb",
   "metadata": {},
   "outputs": [],
   "source": []
  }
 ],
 "metadata": {
  "kernelspec": {
   "display_name": "Python 3",
   "language": "python",
   "name": "python3"
  },
  "language_info": {
   "codemirror_mode": {
    "name": "ipython",
    "version": 3
   },
   "file_extension": ".py",
   "mimetype": "text/x-python",
   "name": "python",
   "nbconvert_exporter": "python",
   "pygments_lexer": "ipython3",
   "version": "3.8.8"
  }
 },
 "nbformat": 4,
 "nbformat_minor": 5
}
