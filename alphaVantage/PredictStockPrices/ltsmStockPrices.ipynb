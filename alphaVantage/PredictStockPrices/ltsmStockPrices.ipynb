{
 "cells": [
  {
   "cell_type": "markdown",
   "id": "b19bb141-5235-4f96-8b76-1e9b7b1b4ba0",
   "metadata": {},
   "source": [
    "# **Deep Learning for Stock Prices**\n",
    "#### Using Long Short-Term Memory \n",
    "---"
   ]
  },
  {
   "cell_type": "markdown",
   "id": "542cc548-7608-49ea-8f7c-776a0f560b30",
   "metadata": {},
   "source": [
    "### Import Dependencies "
   ]
  },
  {
   "cell_type": "code",
   "execution_count": null,
   "id": "9ff5f112-df86-476d-99f8-ade5fe6ef485",
   "metadata": {},
   "outputs": [],
   "source": [
    "import numpy as np\n",
    "\n",
    "import torch\n",
    "import torch.nn as nn\n",
    "import torch.nn.functional as F\n",
    "import torch.optim as optim\n",
    "from torch.utils.data import Dataset\n",
    "from torch.utils.data import DataLoader\n",
    "\n",
    "import matplotlib.pyplot as plt\n",
    "from matplotlib.pyplot import figure\n",
    "\n",
    "from alpha_vantage.timeseries import TimeSeries "
   ]
  },
  {
   "cell_type": "markdown",
   "id": "b4ea27c0-9cc1-4d2a-9e9d-ab17fef5b03c",
   "metadata": {},
   "source": [
    "### Configure Basic Parameters "
   ]
  },
  {
   "cell_type": "code",
   "execution_count": 4,
   "id": "ed3b47dc-53d8-412d-a755-09aceb8115cc",
   "metadata": {},
   "outputs": [],
   "source": [
    "config = {\n",
    "    \"alpha_vantage\": {\n",
    "        \"key\": \"ALPHA_VANTAGE_API_KEY\", \n",
    "        \"symbol\": \"IBM\",\n",
    "        \"outputsize\": \"full\",\n",
    "        \"key_adjusted_close\": \"5. adjusted close\",\n",
    "    },\n",
    "    \"data\": {\n",
    "        \"window_size\": 20,\n",
    "        \"train_split_size\": 0.80,\n",
    "    }, \n",
    "    \"plots\": {\n",
    "        \"xticks_interval\": 90,\n",
    "        \"color_actual\": \"#001f3f\",\n",
    "        \"color_train\": \"#3D9970\",\n",
    "        \"color_val\": \"#0074D9\",\n",
    "        \"color_pred_train\": \"#3D9970\",\n",
    "        \"color_pred_val\": \"#0074D9\",\n",
    "        \"color_pred_test\": \"#FF4136\",\n",
    "    },\n",
    "    \"model\": {\n",
    "        \"input_size\": 1, # only using close price\n",
    "        \"num_lstm_layers\": 2,\n",
    "        \"lstm_size\": 32,\n",
    "        \"dropout\": 0.2,\n",
    "    },\n",
    "    \"training\": {\n",
    "        \"device\": \"cpu\", \n",
    "        \"batch_size\": 64,\n",
    "        \"num_epoch\": 100,\n",
    "        \"learning_rate\": 0.01,\n",
    "        \"scheduler_step_size\": 40,\n",
    "    }\n",
    "}"
   ]
  },
  {
   "cell_type": "code",
   "execution_count": null,
   "id": "5c29d277-d052-4a29-ab23-35260141fb19",
   "metadata": {},
   "outputs": [],
   "source": []
  }
 ],
 "metadata": {
  "kernelspec": {
   "display_name": "Python 3",
   "language": "python",
   "name": "python3"
  },
  "language_info": {
   "codemirror_mode": {
    "name": "ipython",
    "version": 3
   },
   "file_extension": ".py",
   "mimetype": "text/x-python",
   "name": "python",
   "nbconvert_exporter": "python",
   "pygments_lexer": "ipython3",
   "version": "3.8.8"
  }
 },
 "nbformat": 4,
 "nbformat_minor": 5
}
