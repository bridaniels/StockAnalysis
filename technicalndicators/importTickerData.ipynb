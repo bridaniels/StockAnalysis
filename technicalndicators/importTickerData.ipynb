{
 "cells": [
  {
   "cell_type": "markdown",
   "id": "939e6d15-461f-4d86-9f56-9f2961b342ef",
   "metadata": {},
   "source": [
    "# Import Ticker Data"
   ]
  },
  {
   "cell_type": "code",
   "execution_count": 1,
   "id": "89e36ddf-be2f-4c48-aac5-f280a2f36596",
   "metadata": {},
   "outputs": [],
   "source": [
    "import os\n",
    "import requests\n",
    "\n",
    "import pandas as pd\n",
    "import pandas_datareader as pdr"
   ]
  },
  {
   "cell_type": "code",
   "execution_count": 2,
   "id": "930688d1-44f2-469b-a5ac-13a8c0ff07a3",
   "metadata": {},
   "outputs": [],
   "source": [
    "ticker = 'FB'\n",
    "start_date = '2000'\n",
    "end_date = ''"
   ]
  },
  {
   "cell_type": "markdown",
   "id": "0a9f6de1-8852-422d-993d-5af8da366ed5",
   "metadata": {},
   "source": [
    "### Retrieve Prexisting List With Technical Indicators"
   ]
  },
  {
   "cell_type": "code",
   "execution_count": 3,
   "id": "4bfbccdd-3443-491b-bbb7-f5ae73b97579",
   "metadata": {},
   "outputs": [],
   "source": [
    "files = os.listdir('data/stocks')\n",
    "stocks = {}\n",
    "for file in files:\n",
    "    if file.split('.')[1] == 'csv':\n",
    "        name = file.split('.')[0]\n",
    "        stocks[name] = pd.read_csv('data/stocks/'+file, index_col='Date')\n",
    "        stocks[name].index = pd.to_datetime(stocks[name].index)"
   ]
  },
  {
   "cell_type": "code",
   "execution_count": 4,
   "id": "acfffde7-cc05-43ea-a085-e2f7cde11e37",
   "metadata": {},
   "outputs": [
    {
     "name": "stdout",
     "output_type": "stream",
     "text": [
      "List of stocks:  AMZN MSFT FB TSLA GOOGL GOOG AAPL "
     ]
    }
   ],
   "source": [
    "print('List of stocks: ', end = ' ')\n",
    "for i in stocks.keys():\n",
    "    print(i.upper(), end=' ')"
   ]
  },
  {
   "cell_type": "markdown",
   "id": "98d18534-b4f4-48db-a710-1ffb06d1f242",
   "metadata": {},
   "source": [
    "### Retrieve Prexisting List of Raw Stock Data"
   ]
  },
  {
   "cell_type": "code",
   "execution_count": 5,
   "id": "f5b9bea8-027b-4c84-bd01-a297a67a92c6",
   "metadata": {},
   "outputs": [],
   "source": [
    "files = os.listdir('data/raw_stocks')\n",
    "stocks = {}\n",
    "for file in files:\n",
    "    if file.split('.')[1] == 'csv':\n",
    "        name = file.split('.')[0]\n",
    "        stocks[name] = pd.read_csv('data/raw_stocks/'+file, index_col='Date')\n",
    "        stocks[name].index = pd.to_datetime(stocks[name].index)"
   ]
  },
  {
   "cell_type": "markdown",
   "id": "563ee695-4b90-41e2-a83d-ca0b4c4d8d82",
   "metadata": {},
   "source": [
    "---\n",
    "# Import New Ticker Data\n",
    "---"
   ]
  },
  {
   "cell_type": "code",
   "execution_count": 6,
   "id": "573f36d0-29e8-42a4-b97a-e3117a4e0b58",
   "metadata": {},
   "outputs": [
    {
     "name": "stdout",
     "output_type": "stream",
     "text": [
      "List of stocks:  AMZN MSFT FB TSLA GOOGL GOOG AAPL "
     ]
    }
   ],
   "source": [
    "print('List of stocks: ', end = ' ')\n",
    "for i in stocks.keys():\n",
    "    print(i.upper(), end=' ')"
   ]
  },
  {
   "cell_type": "code",
   "execution_count": 7,
   "id": "d189f4f0-1a70-4bb7-bf36-900fe0e72a7b",
   "metadata": {},
   "outputs": [],
   "source": [
    "# stock_df = pdr.get_data_yahoo(ticker, start_date, end_date)\n",
    "stock_df = pdr.get_data_yahoo(ticker, start_date)"
   ]
  },
  {
   "cell_type": "code",
   "execution_count": 8,
   "id": "6c2c357e-5901-4f8c-bdc0-8731499755c1",
   "metadata": {},
   "outputs": [],
   "source": [
    "stock_df.to_csv('data/raw_stocks/'+ticker.upper()+'.csv')"
   ]
  },
  {
   "cell_type": "code",
   "execution_count": 9,
   "id": "b6152bcb-e5ef-4701-bfd6-d7605bc5b91e",
   "metadata": {},
   "outputs": [
    {
     "data": {
      "text/html": [
       "<div>\n",
       "<style scoped>\n",
       "    .dataframe tbody tr th:only-of-type {\n",
       "        vertical-align: middle;\n",
       "    }\n",
       "\n",
       "    .dataframe tbody tr th {\n",
       "        vertical-align: top;\n",
       "    }\n",
       "\n",
       "    .dataframe thead th {\n",
       "        text-align: right;\n",
       "    }\n",
       "</style>\n",
       "<table border=\"1\" class=\"dataframe\">\n",
       "  <thead>\n",
       "    <tr style=\"text-align: right;\">\n",
       "      <th></th>\n",
       "      <th>High</th>\n",
       "      <th>Low</th>\n",
       "      <th>Open</th>\n",
       "      <th>Close</th>\n",
       "      <th>Volume</th>\n",
       "      <th>Adj Close</th>\n",
       "    </tr>\n",
       "    <tr>\n",
       "      <th>Date</th>\n",
       "      <th></th>\n",
       "      <th></th>\n",
       "      <th></th>\n",
       "      <th></th>\n",
       "      <th></th>\n",
       "      <th></th>\n",
       "    </tr>\n",
       "  </thead>\n",
       "  <tbody>\n",
       "    <tr>\n",
       "      <th>2022-03-22</th>\n",
       "      <td>219.460007</td>\n",
       "      <td>210.179993</td>\n",
       "      <td>211.369995</td>\n",
       "      <td>216.649994</td>\n",
       "      <td>31998800</td>\n",
       "      <td>216.649994</td>\n",
       "    </tr>\n",
       "    <tr>\n",
       "      <th>2022-03-23</th>\n",
       "      <td>216.800003</td>\n",
       "      <td>212.160004</td>\n",
       "      <td>213.330002</td>\n",
       "      <td>213.460007</td>\n",
       "      <td>23717300</td>\n",
       "      <td>213.460007</td>\n",
       "    </tr>\n",
       "    <tr>\n",
       "      <th>2022-03-24</th>\n",
       "      <td>220.669998</td>\n",
       "      <td>214.789993</td>\n",
       "      <td>215.000000</td>\n",
       "      <td>219.570007</td>\n",
       "      <td>31502300</td>\n",
       "      <td>219.570007</td>\n",
       "    </tr>\n",
       "    <tr>\n",
       "      <th>2022-03-25</th>\n",
       "      <td>225.500000</td>\n",
       "      <td>218.889999</td>\n",
       "      <td>220.509995</td>\n",
       "      <td>221.820007</td>\n",
       "      <td>40010500</td>\n",
       "      <td>221.820007</td>\n",
       "    </tr>\n",
       "    <tr>\n",
       "      <th>2022-03-28</th>\n",
       "      <td>224.039993</td>\n",
       "      <td>219.550003</td>\n",
       "      <td>222.130005</td>\n",
       "      <td>223.589996</td>\n",
       "      <td>25548702</td>\n",
       "      <td>223.589996</td>\n",
       "    </tr>\n",
       "  </tbody>\n",
       "</table>\n",
       "</div>"
      ],
      "text/plain": [
       "                  High         Low        Open       Close    Volume  \\\n",
       "Date                                                                   \n",
       "2022-03-22  219.460007  210.179993  211.369995  216.649994  31998800   \n",
       "2022-03-23  216.800003  212.160004  213.330002  213.460007  23717300   \n",
       "2022-03-24  220.669998  214.789993  215.000000  219.570007  31502300   \n",
       "2022-03-25  225.500000  218.889999  220.509995  221.820007  40010500   \n",
       "2022-03-28  224.039993  219.550003  222.130005  223.589996  25548702   \n",
       "\n",
       "             Adj Close  \n",
       "Date                    \n",
       "2022-03-22  216.649994  \n",
       "2022-03-23  213.460007  \n",
       "2022-03-24  219.570007  \n",
       "2022-03-25  221.820007  \n",
       "2022-03-28  223.589996  "
      ]
     },
     "execution_count": 9,
     "metadata": {},
     "output_type": "execute_result"
    }
   ],
   "source": [
    "stock_df.tail()"
   ]
  },
  {
   "cell_type": "code",
   "execution_count": 10,
   "id": "68d8fe6e-0895-4dde-8dd0-b45ae8cfb76b",
   "metadata": {},
   "outputs": [
    {
     "name": "stdout",
     "output_type": "stream",
     "text": [
      "No Missing Data\n"
     ]
    }
   ],
   "source": [
    "print('No Missing Data') if sum(stock_df.isna().sum())==0 else stock_df.isna().sum()"
   ]
  },
  {
   "cell_type": "code",
   "execution_count": null,
   "id": "93042a78-77cd-4e03-896c-4fd8a4f9586d",
   "metadata": {},
   "outputs": [],
   "source": []
  }
 ],
 "metadata": {
  "kernelspec": {
   "display_name": "Python 3",
   "language": "python",
   "name": "python3"
  },
  "language_info": {
   "codemirror_mode": {
    "name": "ipython",
    "version": 3
   },
   "file_extension": ".py",
   "mimetype": "text/x-python",
   "name": "python",
   "nbconvert_exporter": "python",
   "pygments_lexer": "ipython3",
   "version": "3.8.8"
  }
 },
 "nbformat": 4,
 "nbformat_minor": 5
}
