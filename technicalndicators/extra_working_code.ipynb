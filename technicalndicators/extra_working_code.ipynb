{
 "cells": [
  {
   "cell_type": "code",
   "execution_count": null,
   "id": "c396be41-0c6a-4331-ba2e-47d08e463e9e",
   "metadata": {},
   "outputs": [],
   "source": [
    "# For Sequential lstm Model \n",
    "# Features Extractor \n",
    "feature_extractor = Model(\n",
    "            inputs=model.inputs,\n",
    "            outputs=[layer.output for layer in model.layers])\n",
    "print(feature_extractor)\n",
    "\n",
    "feature_extractor2 = Model(\n",
    "            inputs=model.inputs,\n",
    "            outputs=model.get_layer('lstm_2').output,\n",
    "                )\n",
    "print(feature_extractor2)"
   ]
  },
  {
   "cell_type": "code",
   "execution_count": null,
   "id": "7e1303c3-bc1b-47fa-b6c2-ce50a2d27eef",
   "metadata": {},
   "outputs": [],
   "source": []
  },
  {
   "cell_type": "code",
   "execution_count": null,
   "id": "9fdbb6b1-0138-4cf2-b50c-8698775b5313",
   "metadata": {},
   "outputs": [],
   "source": []
  }
 ],
 "metadata": {
  "kernelspec": {
   "display_name": "Python 3",
   "language": "python",
   "name": "python3"
  },
  "language_info": {
   "codemirror_mode": {
    "name": "ipython",
    "version": 3
   },
   "file_extension": ".py",
   "mimetype": "text/x-python",
   "name": "python",
   "nbconvert_exporter": "python",
   "pygments_lexer": "ipython3",
   "version": "3.8.8"
  }
 },
 "nbformat": 4,
 "nbformat_minor": 5
}
