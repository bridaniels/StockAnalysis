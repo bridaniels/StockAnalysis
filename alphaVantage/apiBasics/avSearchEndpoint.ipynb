{
 "cells": [
  {
   "cell_type": "markdown",
   "id": "fa5e67c0-74b0-42f6-ac25-ef2cba67c5c7",
   "metadata": {},
   "source": [
    "# **Alpha Vantage Search Endpoint**"
   ]
  },
  {
   "cell_type": "code",
   "execution_count": 1,
   "id": "859958a4-27bb-4d67-9940-c98f434d8011",
   "metadata": {},
   "outputs": [],
   "source": [
    "import requests"
   ]
  },
  {
   "cell_type": "code",
   "execution_count": 2,
   "id": "116e6b1e-88ad-4774-b107-a5778ec3bf4b",
   "metadata": {},
   "outputs": [
    {
     "name": "stdin",
     "output_type": "stream",
     "text": [
      " apple\n"
     ]
    }
   ],
   "source": [
    "KWRD = input()"
   ]
  },
  {
   "cell_type": "code",
   "execution_count": 3,
   "id": "469481e9-e6aa-4ebb-8a4a-94565244735c",
   "metadata": {},
   "outputs": [
    {
     "name": "stdout",
     "output_type": "stream",
     "text": [
      "{'bestMatches': [{'1. symbol': 'APLE', '2. name': 'Apple Hospitality REIT Inc', '3. type': 'Equity', '4. region': 'United States', '5. marketOpen': '09:30', '6. marketClose': '16:00', '7. timezone': 'UTC-04', '8. currency': 'USD', '9. matchScore': '0.8889'}, {'1. symbol': 'AAPL', '2. name': 'Apple Inc', '3. type': 'Equity', '4. region': 'United States', '5. marketOpen': '09:30', '6. marketClose': '16:00', '7. timezone': 'UTC-04', '8. currency': 'USD', '9. matchScore': '0.7143'}, {'1. symbol': 'AAPL34.SAO', '2. name': 'Apple Inc', '3. type': 'Equity', '4. region': 'Brazil/Sao Paolo', '5. marketOpen': '10:00', '6. marketClose': '17:30', '7. timezone': 'UTC-03', '8. currency': 'BRL', '9. matchScore': '0.7143'}, {'1. symbol': 'APC.DEX', '2. name': 'Apple Inc', '3. type': 'Equity', '4. region': 'XETRA', '5. marketOpen': '08:00', '6. marketClose': '20:00', '7. timezone': 'UTC+01', '8. currency': 'EUR', '9. matchScore': '0.7143'}, {'1. symbol': 'APC.FRK', '2. name': 'Apple Inc', '3. type': 'Equity', '4. region': 'Frankfurt', '5. marketOpen': '08:00', '6. marketClose': '20:00', '7. timezone': 'UTC+01', '8. currency': 'EUR', '9. matchScore': '0.7143'}, {'1. symbol': 'AGPL', '2. name': 'Apple Green Holding Inc', '3. type': 'Equity', '4. region': 'United States', '5. marketOpen': '09:30', '6. marketClose': '16:00', '7. timezone': 'UTC-04', '8. currency': 'USD', '9. matchScore': '0.6667'}, {'1. symbol': '0R2V.LON', '2. name': 'Apple Inc.', '3. type': 'Equity', '4. region': 'United Kingdom', '5. marketOpen': '08:00', '6. marketClose': '16:30', '7. timezone': 'UTC+00', '8. currency': 'USD', '9. matchScore': '0.6667'}, {'1. symbol': 'APRU', '2. name': 'Apple Rush Company Inc', '3. type': 'Equity', '4. region': 'United States', '5. marketOpen': '09:30', '6. marketClose': '16:00', '7. timezone': 'UTC-04', '8. currency': 'USD', '9. matchScore': '0.4444'}, {'1. symbol': '500014.BSE', '2. name': 'Apple Finance Limited', '3. type': 'Equity', '4. region': 'India/Bombay', '5. marketOpen': '09:15', '6. marketClose': '15:30', '7. timezone': 'UTC+5.5', '8. currency': 'INR', '9. matchScore': '0.3846'}, {'1. symbol': '603020.SHH', '2. name': 'Apple Flavor Fragrance Group Company Ltd', '3. type': 'Equity', '4. region': 'Shanghai', '5. marketOpen': '09:30', '6. marketClose': '15:00', '7. timezone': 'UTC+08', '8. currency': 'CNY', '9. matchScore': '0.2222'}]}\n"
     ]
    }
   ],
   "source": [
    "url = 'https://www.alphavantage.co/query?function=SYMBOL_SEARCH&keywords='+ KWRD + '&apikey=ALPHA_VANTAGE_API_KEY'\n",
    "r = requests.get(url)\n",
    "data = r.json()\n",
    "\n",
    "print(data)"
   ]
  },
  {
   "cell_type": "code",
   "execution_count": null,
   "id": "f1b193dd-6e99-4da1-8468-64f1723deca9",
   "metadata": {},
   "outputs": [],
   "source": []
  }
 ],
 "metadata": {
  "kernelspec": {
   "display_name": "Python 3",
   "language": "python",
   "name": "python3"
  },
  "language_info": {
   "codemirror_mode": {
    "name": "ipython",
    "version": 3
   },
   "file_extension": ".py",
   "mimetype": "text/x-python",
   "name": "python",
   "nbconvert_exporter": "python",
   "pygments_lexer": "ipython3",
   "version": "3.8.8"
  }
 },
 "nbformat": 4,
 "nbformat_minor": 5
}
