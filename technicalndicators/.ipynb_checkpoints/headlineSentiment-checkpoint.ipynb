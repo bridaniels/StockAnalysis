{
 "cells": [
  {
   "cell_type": "markdown",
   "id": "48eb42e3-8b32-449c-94ae-aac6b57bc39d",
   "metadata": {},
   "source": [
    "# Headline Sentiment Analysis \n",
    "---"
   ]
  },
  {
   "cell_type": "markdown",
   "id": "529de1bd-0b45-4143-ab0a-61fa35bb9f3b",
   "metadata": {},
   "source": [
    "### Import Libraries "
   ]
  },
  {
   "cell_type": "code",
   "execution_count": null,
   "id": "8728ed56-e14e-4a08-a84f-a7c6cad690bd",
   "metadata": {},
   "outputs": [],
   "source": [
    "import requests\n",
    "import csv\n",
    "\n",
    "import pandas as pd\n",
    "\n",
    "from bs4 import BeautifulSoup"
   ]
  },
  {
   "cell_type": "markdown",
   "id": "2a3d808a-1edf-4206-a018-c6cd8ba1e62d",
   "metadata": {},
   "source": [
    "### Define Ticker"
   ]
  },
  {
   "cell_type": "code",
   "execution_count": null,
   "id": "43c20790-019e-49d9-a234-878e6f58ba9b",
   "metadata": {},
   "outputs": [],
   "source": [
    "ticker = 'tsla'"
   ]
  },
  {
   "cell_type": "markdown",
   "id": "c405ed01-ca50-4adc-90e7-feefabf0fbdf",
   "metadata": {},
   "source": [
    "### Parse news headlines from [nasdaq.com](nasdaq.com)"
   ]
  },
  {
   "cell_type": "code",
   "execution_count": null,
   "id": "363e7197-f240-466d-ab8d-8ec28be1e331",
   "metadata": {},
   "outputs": [],
   "source": [
    "def get_headlines(page):\n",
    "    html = requests.get(page).text\n",
    "    soup = BeautifulSoup(html)\n",
    "    headlines = soup.find_all(\"a\", {\"target\" : \"_self\"})\n",
    "    headlines.pop(0)\n",
    "    dates = soup.findAll('small')\n",
    "    dates.pop(0)\n",
    "    return [i.text.strip() for i in headlines], [i.text.strip().split()[0] for i in dates]"
   ]
  },
  {
   "cell_type": "code",
   "execution_count": null,
   "id": "72899a62-3faf-4022-a128-250b05fcc082",
   "metadata": {},
   "outputs": [],
   "source": [
    "headlines_list, date_list = [], []\n",
    "# YOU DUMB HOE THIS DON'T WORK \n",
    "# STOOOOOOOPID BITCH \n",
    "# NOT RUNNING -FIX IT UP TIS MESSSYYYYYYYYY\n",
    "for i in range(1,120):\n",
    "    # use format so `i` is in a string format not an integer \n",
    "    headlines, dates = get_headlines(\"https://www.nasdaq.com/symbol/\"+ticker.upper()+\"/news-headlines?page={}\".format(i))\n",
    "    headlines_list.append(headlines)\n",
    "    dates_list.append(dates)\n",
    "    time.sleep(1)\n",
    "    "
   ]
  },
  {
   "cell_type": "code",
   "execution_count": null,
   "id": "91cf8b76-a7be-4170-84dc-90e6ca1b2769",
   "metadata": {},
   "outputs": [],
   "source": [
    "ticker_headlines = pd.DataFrame({'Title': [i for sub in headlines_list for i in sub], \n",
    "                                 'Date': [i for sub in dates_list for i in sub[:10]]})"
   ]
  },
  {
   "cell_type": "code",
   "execution_count": null,
   "id": "5c2ad5bc-76cf-4ab6-9c2a-0da8c37e805c",
   "metadata": {},
   "outputs": [],
   "source": [
    "sid = SentimentIntensityAnalyzer()\n",
    "\n",
    "ticker_headlines['Sentiment'] = ticker_headlines['Title'].map(lambda x: sid.polarity_scores(x)['compound'])\n",
    "ticker_headlines.Date = pd.to_datetime(ticker_headlines.Date)"
   ]
  },
  {
   "cell_type": "code",
   "execution_count": null,
   "id": "f140e66a-ed4b-4cd5-b48d-14072915d212",
   "metadata": {},
   "outputs": [],
   "source": [
    "ticker_headlines.head()"
   ]
  },
  {
   "cell_type": "markdown",
   "id": "3845222b-9205-4184-b2cf-ea823d45e2e9",
   "metadata": {},
   "source": [
    "##### Save to CSV"
   ]
  },
  {
   "cell_type": "code",
   "execution_count": null,
   "id": "c6422298-69e9-49f2-ba36-78e43d28fe48",
   "metadata": {},
   "outputs": [],
   "source": [
    "ticker_headlines.to_csv('data/headlines/'+ticker+'_headlines.csv')"
   ]
  },
  {
   "cell_type": "markdown",
   "id": "043240be-ce8c-4993-8a3b-28f919b6dd91",
   "metadata": {},
   "source": [
    "# Most Active Stocks\n",
    "---\n",
    "- Find current most active stocks in the market "
   ]
  },
  {
   "cell_type": "code",
   "execution_count": null,
   "id": "a5e16729-2e3a-4d47-93c2-ac02bca8af59",
   "metadata": {},
   "outputs": [],
   "source": [
    "active_stocks = \"https://www.nasdaq.com/markets/most-active.aspx\"\n",
    "r = requests.get(active_stocks)\n",
    "data = r.text\n",
    "soup = BeautifulSoup(data)"
   ]
  },
  {
   "cell_type": "code",
   "execution_count": null,
   "id": "fb7903b5-296c-49bf-a8d3-8de314442804",
   "metadata": {},
   "outputs": [],
   "source": [
    "table = soupt.findAll('div', attr{\"class\":\"genTable\"})\n",
    "all_rows = table[1].findAll('tr')"
   ]
  },
  {
   "cell_type": "code",
   "execution_count": 1,
   "id": "0f58217f-4b17-41d8-be29-23e2b1b7c322",
   "metadata": {},
   "outputs": [],
   "source": [
    "symbols = []\n",
    "names = []\n",
    "last_sales = []\n",
    "change_nets = []\n",
    "share_volumes = []"
   ]
  },
  {
   "cell_type": "code",
   "execution_count": null,
   "id": "fb8a9275-c306-4a85-8d78-76db7de6699c",
   "metadata": {},
   "outputs": [],
   "source": []
  },
  {
   "cell_type": "code",
   "execution_count": null,
   "id": "6aff5334-7acd-4357-9c7d-d0ccac7800ac",
   "metadata": {},
   "outputs": [],
   "source": []
  }
 ],
 "metadata": {
  "kernelspec": {
   "display_name": "Python 3",
   "language": "python",
   "name": "python3"
  },
  "language_info": {
   "codemirror_mode": {
    "name": "ipython",
    "version": 3
   },
   "file_extension": ".py",
   "mimetype": "text/x-python",
   "name": "python",
   "nbconvert_exporter": "python",
   "pygments_lexer": "ipython3",
   "version": "3.8.8"
  }
 },
 "nbformat": 4,
 "nbformat_minor": 5
}
