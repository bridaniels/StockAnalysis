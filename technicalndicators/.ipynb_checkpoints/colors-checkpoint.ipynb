{
 "cells": [
  {
   "cell_type": "markdown",
   "id": "6a7f648b-bea8-4442-972a-66e67cd1615d",
   "metadata": {},
   "source": [
    "# Colors"
   ]
  },
  {
   "cell_type": "code",
   "execution_count": 1,
   "id": "72debe57-ae24-40f2-bb62-089155f7fb11",
   "metadata": {},
   "outputs": [],
   "source": [
    "# dataAnalysis\n",
    "Blue = '#3388cf'\n",
    "Purple = '#ad6eff'\n",
    "Red = '#ff6e9d'\n",
    "Green = '#60e8ad'\n",
    "Dark_Green = '#ffa74a'\n",
    "Dark_Orange = '#ffbd74'\n",
    "Light_Orange = '#ffa33f'\n",
    "Fill_Orange = '#ffa33f'"
   ]
  },
  {
   "cell_type": "code",
   "execution_count": 2,
   "id": "9a82b273-818a-46cd-89d0-56113414b0f9",
   "metadata": {},
   "outputs": [],
   "source": [
    "# learner\n",
    "lightblue = '#4ac2fb'\n",
    "pinkyred = '#ff4e97'\n",
    "black='#333333'"
   ]
  },
  {
   "cell_type": "code",
   "execution_count": null,
   "id": "6156809b-9308-48bd-bf9d-08c5b1f980d5",
   "metadata": {},
   "outputs": [],
   "source": []
  }
 ],
 "metadata": {
  "kernelspec": {
   "display_name": "Python 3",
   "language": "python",
   "name": "python3"
  },
  "language_info": {
   "codemirror_mode": {
    "name": "ipython",
    "version": 3
   },
   "file_extension": ".py",
   "mimetype": "text/x-python",
   "name": "python",
   "nbconvert_exporter": "python",
   "pygments_lexer": "ipython3",
   "version": "3.8.8"
  }
 },
 "nbformat": 4,
 "nbformat_minor": 5
}
